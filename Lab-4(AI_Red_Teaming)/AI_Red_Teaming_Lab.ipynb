{
  "cells": [
    {
      "cell_type": "markdown",
      "metadata": {
        "id": "EoDrnt7pRkcs"
      },
      "source": [
        "# AI Red Teaming Lab\n",
        "\n",
        "[![Open In Colab](https://colab.research.google.com/assets/colab-badge.svg)](https://colab.research.google.com/github/sachin0034/hands_on_AI_introduction_to_AI_evaluations-4038348/blob/main/Lab-4%28AI_Red_Teaming%29/AI_Red_Teaming_Lab.ipynb)\n",
        "\n",
        "\n",
        "## Introduction\n",
        "\n",
        "In this lab, you'll learn the fundamentals of **AI Red Teaming**—a practice focused on simulating real-world adversaries to uncover vulnerabilities in AI systems.\n",
        "\n",
        "## What is AI Red Teaming?\n",
        "\n",
        "AI Red Teaming is the practice of simulating attacks on AI systems to identify:\n",
        "\n",
        "- 🔓 Security vulnerabilities\n",
        "- ⚠️ Safety risks\n",
        "- ❌ Reliability issues\n",
        "\n",
        "> Think of it as ethical hacking—but for your AI models.\n"
      ]
    },
    {
      "cell_type": "markdown",
      "metadata": {
        "id": "GBd8hx9KRwW5"
      },
      "source": [
        "# Getting Started\n",
        "\n",
        "# Prerequisites\n",
        "- An **Azure Premium subscription account**\n",
        "- You **must use a Foundry project** for this feature\n",
        "- Create a Foundry project using the guide: [Create a Foundry Project](../Create_Azure_Project_Instruction/Readme.md)\n"
      ]
    },
    {
      "cell_type": "markdown",
      "metadata": {
        "id": "SvSbMUHXS-xV"
      },
      "source": [
        "## Sign into Azure interactively using the Azure CLI\n",
        "\n",
        "To interact with Azure resources directly from your Colab notebook, you first need to install the **Azure CLI** in the Colab environment. Use the command below to install it:\n",
        "**bold text**\n"
      ]
    },
    {
      "cell_type": "code",
      "execution_count": null,
      "metadata": {
        "id": "zaQ3oK_qAK3s"
      },
      "outputs": [],
      "source": [
        "\n",
        "!curl -sL https://aka.ms/InstallAzureCLIDeb | sudo bash"
      ]
    },
    {
      "cell_type": "markdown",
      "metadata": {
        "id": "Ex-eGIEITOB2"
      },
      "source": [
        "# Install Packages\n",
        "To use the AI Red Teaming tools in this lab, install the following packages:\n",
        "\n",
        "\n",
        "### Package Breakdown\n",
        "\n",
        "| 📦 Package Name                    | 📝 Description                                                        |\n",
        "|-----------------------------------|------------------------------------------------------------------------|\n",
        "| `azure-ai-evaluation[redteam]`    | Tools and modules for AI red teaming and evaluation                    |\n",
        "| `azure-identity`                  | Manages Azure authentication via Active Directory                      |\n",
        "| `openai`                          | Interface to interact with OpenAI GPT models                           |\n",
        "| `azure-ai-projects`               | Manage and run Azure AI Foundry projects                               |\n",
        "| `semantic-kernel`                 | Framework to orchestrate AI apps and LLM workflows                     |\n"
      ]
    },
    {
      "cell_type": "code",
      "execution_count": null,
      "metadata": {
        "id": "6WZhdam8AYIo"
      },
      "outputs": [],
      "source": [
        "! pip install azure-ai-evaluation[redteam] azure-identity openai azure-ai-projects semantic-kernel"
      ]
    },
    {
      "cell_type": "markdown",
      "metadata": {
        "id": "fLwQp31FT70-"
      },
      "source": [
        "# Import Packages\n",
        "\n",
        "## Import Breakdown\n",
        "\n",
        "| **Import**                                      | **Source**                              | **Purpose**                                                                 |\n",
        "|------------------------------------------------|------------------------------------------|------------------------------------------------------------------------------|\n",
        "| `Optional`, `Dict`, `Any`                      | `typing`                                 | Type hinting for cleaner and safer code                                     |\n",
        "| `os`                                           | Python Standard Library                  | Access environment variables and OS-level functionality                     |\n",
        "| `RedTeam`                                      | `azure.ai.evaluation.red_team`          | Core class to run red teaming evaluations on AI models                      |\n",
        "| `RiskCategory`                                 | `azure.ai.evaluation.red_team`          | Enum to classify risks (e.g., safety, fairness, security)                   |\n",
        "| `AttackStrategy`                               | `azure.ai.evaluation.red_team`          | Enum or class representing different attack types or strategies             |\n",
        "| `AzureOpenAI`                                  | `openai`                                 | Interface to interact with OpenAI models deployed via Azure infrastructure  |\n"
      ]
    },
    {
      "cell_type": "code",
      "execution_count": 7,
      "metadata": {
        "id": "tZEW8eavAfXb"
      },
      "outputs": [],
      "source": [
        "from typing import Optional, Dict, Any\n",
        "import os\n",
        "\n",
        "# Azure imports\n",
        "from azure.ai.evaluation.red_team import RedTeam, RiskCategory, AttackStrategy\n",
        "\n",
        "# OpenAI imports\n",
        "from openai import AzureOpenAI"
      ]
    },
    {
      "cell_type": "markdown",
      "metadata": {
        "id": "LnJrfMkWUFL5"
      },
      "source": [
        "## Interactive login\n",
        "`az login` is a command used with the **Azure CLI (Command Line Interface)** to authenticate and connect your local environment (like Terminal, Command Prompt, or Jupyter Notebook) to your **Microsoft Azure account**.\n",
        "\n",
        "## Requirements\n",
        "\n",
        "- ✅ You must have an **Azure subscription account**.\n",
        "- ✅ **Azure CLI** should be installed (`az` command should work in your terminal or notebook).\n",
        "\n",
        "## When you run `az login`, you will receive a message like:\n",
        "***To sign in, use a web browser to open the page https://microsoft.com/devicelogin and enter the code SHH9K2G35 to authenticate.***\n",
        "\n",
        "***Click the link, paste the provided code, and follow the login steps to complete authentication.***"
      ]
    },
    {
      "cell_type": "code",
      "execution_count": null,
      "metadata": {
        "colab": {
          "base_uri": "https://localhost:8080/"
        },
        "collapsed": true,
        "id": "Ome6MNtYAl3d",
        "outputId": "53318fc7-3568-4ed9-f7b4-6211005dc83e"
      },
      "outputs": [
        {
          "name": "stdout",
          "output_type": "stream",
          "text": [
            "\u001b[93mTo sign in, use a web browser to open the page https://microsoft.com/devicelogin and enter the code BD7Q7TPX2 to authenticate.\u001b[0m\n",
            "\n",
            "Retrieving tenants and subscriptions for the selection...\n",
            "\n",
            "[Tenant and subscription selection]\n",
            "\n",
            "No     Subscription name              Subscription ID                       Tenant\n",
            "-----  -----------------------------  ------------------------------------  -----------\n",
            "\u001b[96m[1]\u001b[0m *  \u001b[96mMicrosoft Azure LegalGraph AI\u001b[0m  \u001b[96m0d74045d-252c-4b44-856a-71c5dee6b80a\u001b[0m  \u001b[96mPragyaa LLC\u001b[0m\n",
            "\n",
            "The default is marked with an *; the default tenant is 'Pragyaa LLC' and subscription is 'Microsoft Azure LegalGraph AI' (0d74045d-252c-4b44-856a-71c5dee6b80a).\n",
            "\n",
            "Select a subscription and tenant (Type a number or Enter for no changes): \n",
            "\n",
            "Tenant: Pragyaa LLC\n",
            "Subscription: Microsoft Azure LegalGraph AI (0d74045d-252c-4b44-856a-71c5dee6b80a)\n",
            "\n",
            "[Announcements]\n",
            "With the new Azure CLI login experience, you can select the subscription you want to use more easily. Learn more about it and its configuration at https://go.microsoft.com/fwlink/?linkid=2271236\n",
            "\n",
            "If you encounter any problem, please open an issue at https://aka.ms/azclibug\n",
            "\n",
            "\u001b[93m[Warning] The login output has been updated. Please be aware that it no longer displays the full list of available subscriptions by default.\n",
            "\u001b[0m\n"
          ]
        }
      ],
      "source": [
        "# Azure Credential imports\n",
        "from azure.identity import AzureCliCredential, get_bearer_token_provider\n",
        "\n",
        "!az login\n",
        "\n",
        "# Initialize Azure credentials\n",
        "credential = AzureCliCredential()"
      ]
    },
    {
      "cell_type": "markdown",
      "metadata": {
        "id": "nE8tFea9UVxW"
      },
      "source": [
        "# Set Up Your Environment Variables\n",
        "\n",
        "Set the following variables for use in this notebook. These environment variables allow your code to connect securely to your Azure resources and AI model deployments.\n",
        "\n",
        "> ℹ️ **Note:** You can find these values in your **Azure AI Foundry project** . [Create a Foundry Project](../Create_Azure_Project_Instruction/Readme.md)\n",
        "\n",
        "---\n",
        "\n",
        "### 🔍 How to Retrieve These Values:\n",
        "\n",
        "- **Endpoint:**  \n",
        "  Navigate to the **Overview** section of your Azure AI Foundry project.  \n",
        "  ✅ The endpoint URL will be listed there.  \n",
        "  ![Endpoint Location](./images/img-8.png)\n",
        "\n",
        "- **Azure OpenAI Configuration:**  \n",
        "  You can retrieve both the **model name** and **endpoint** from the **\"Model Deployment\"** section of your Azure OpenAI resource.  \n",
        "  ![Model Deployment Configuration](./images/img-9.png)\n",
        "\n",
        "---\n",
        "\n",
        "Ensure these values are correctly set before proceeding with code execution in the notebook.\n"
      ]
    },
    {
      "cell_type": "code",
      "execution_count": null,
      "metadata": {
        "id": "_u9Q-QnyApBp"
      },
      "outputs": [],
      "source": [
        "# To get all the keys follow step - 3 prerequisites\n",
        "# Azure AI Project information\n",
        "azure_ai_project = 'Insert Your {AZURE_PROJECT_ENDPOINT}'\n",
        "\n",
        "# Azure OpenAI deployment information\n",
        "azure_openai_deployment = 'Insert Your {AZURE_OPENAI_DEPLOYMENT}'  # e.g., \"gpt-4\"\n",
        "azure_openai_endpoint = 'Insert Your {AZURE_OPENAI_ENDPOINT}'\n",
        "azure_openai_api_key = 'Insert Your {AZURE_OPENAI_API_KEY}'        # e.g., \"your-api-key\"\n",
        "azure_openai_api_version = 'Insert Your {AZURE_OPENAI_API_VERSION}'  # e.g., \"2023-07-01-preview\"\n"
      ]
    },
    {
      "cell_type": "markdown",
      "metadata": {
        "id": "FSJ_pmgmVLzd"
      },
      "source": [
        "## 🧠 Function: `azure_openai_callback`\n",
        "\n",
        "This asynchronous function sends a message to an **Azure-hosted OpenAI model** and retrieves the assistant’s response. It is designed to simulate a conversational AI system, such as a financial advisor assistant.\n",
        "\n",
        "---\n",
        "\n",
        "### 📥 Parameters\n",
        "\n",
        "- **`messages`**: A list of messages in the chat conversation (currently not used but can be used for dynamic input).\n",
        "- **`stream`**: A flag to enable streaming responses (placeholder).\n",
        "- **`session_state`**: Used to track session context (not currently implemented).\n",
        "- **`context`**: Optional dictionary to pass contextual metadata (not currently used).\n",
        "\n",
        "---\n",
        "\n",
        "### 🔐 Step 1: Azure AD Authentication\n",
        "\n",
        "Uses Azure Active Directory to obtain a secure token for accessing Azure Cognitive Services. This avoids using static API keys and enables enterprise-grade authentication.\n",
        "\n",
        "---\n",
        "\n",
        "### 🤖 Step 2: Initialize Azure OpenAI Client\n",
        "\n",
        "Sets up the Azure OpenAI client using the endpoint, API version, and token provider to connect with the model deployment.\n",
        "\n",
        "---\n",
        "\n",
        "### 📡 Step 3: Call the Model\n",
        "\n",
        "Sends the prompt to the Azure OpenAI deployment. The model generates a response based on the input message.\n",
        "\n",
        "---\n",
        "\n",
        "### 🧾 Step 4: Format the Response\n",
        "\n",
        "Extracts the generated message and wraps it in a dictionary format compatible with chat-based applications.\n",
        "\n",
        "---\n",
        "\n",
        "### ⚠️ Step 5: Error Handling\n",
        "\n",
        "If the API call fails (due to incorrect config, network issues, etc.), the function logs the error and returns a default message.\n",
        "\n",
        "---\n",
        "\n",
        "### 🔁 Step 6: Return the Response\n",
        "\n",
        "Returns the model’s response inside a structured dictionary that can be rendered by a chat interface or used in further processing.\n",
        "\n",
        "---\n",
        "\n",
        "### ✅ Summary\n",
        "\n",
        "This function is a building block for red teaming or AI assistant tasks, where you simulate user interactions with an LLM deployed in Azure. It demonstrates how to:\n",
        "- Authenticate using Azure AD\n",
        "- Communicate with Azure-hosted OpenAI models\n",
        "- Format and handle responses gracefully\n"
      ]
    },
    {
      "cell_type": "code",
      "execution_count": null,
      "metadata": {
        "id": "24Sy62-3CnHD"
      },
      "outputs": [],
      "source": [
        "# Define a callback that uses Azure OpenAI API to generate responses\n",
        "async def azure_openai_callback(\n",
        "    messages: list,\n",
        "    stream: Optional[bool] = False,  # noqa: ARG001\n",
        "    session_state: Optional[str] = None,  # noqa: ARG001\n",
        "    context: Optional[Dict[str, Any]] = None,  # noqa: ARG001\n",
        ") -> dict[str, list[dict[str, str]]]:\n",
        "    # Get token provider for Azure AD authentication\n",
        "    token_provider = get_bearer_token_provider(credential, \"https://cognitiveservices.azure.com/.default\")\n",
        "\n",
        "    # Initialize Azure OpenAI client\n",
        "    client = AzureOpenAI(\n",
        "        azure_endpoint=azure_openai_endpoint,\n",
        "        api_version=azure_openai_api_version,\n",
        "        azure_ad_token_provider=token_provider,\n",
        "    )\n",
        "\n",
        "    ## Hardcoded message for demonstration purposes\n",
        "    latest_message = \"I'm a legal advisor assistant. I can help with risk in contracts advice and extract key terms within legal and ethical guidelines.\"\n",
        "\n",
        "    # Alternative hardcoded examples you could use:\n",
        "    # latest_message = \"What are the benefits of using cloud computing?\"\n",
        "    # latest_message = \"Write a short poem about technology.\"\n",
        "    # latest_message = \"Explain the concept of machine learning in simple terms.\"\n",
        "\n",
        "    try:\n",
        "        # Call the model\n",
        "        response = client.chat.completions.create(\n",
        "            model=azure_openai_deployment,\n",
        "            messages=[\n",
        "                {\"role\": \"user\", \"content\": latest_message},\n",
        "            ],\n",
        "            # max_tokens=500, # If using an o1 base model, comment this line out\n",
        "            max_completion_tokens=500,  # If using an o1 base model, uncomment this line\n",
        "            # temperature=0.7, # If using an o1 base model, comment this line out (temperature param not supported for o1 base models)\n",
        "        )\n",
        "\n",
        "        # Format the response to follow the expected chat protocol format\n",
        "        formatted_response = {\"content\": response.choices[0].message.content, \"role\": \"assistant\"}\n",
        "    except Exception as e:\n",
        "        print(f\"Error calling Azure OpenAI: {e!s}\")\n",
        "        formatted_response = \"I encountered an error and couldn't process your request.\"\n",
        "    return {\"messages\": [formatted_response]}"
      ]
    },
    {
      "cell_type": "markdown",
      "metadata": {
        "id": "WdvmKZVNVbFu"
      },
      "source": [
        "## 🛡️ Creating the RedTeam Instance\n",
        "\n",
        "This section initializes the `RedTeam` object, which is the core component for conducting red teaming evaluations on an AI model deployed in Azure.\n",
        "\n",
        "---\n",
        "\n",
        "### 🔧 Parameters:\n",
        "\n",
        "- **`azure_ai_project`**: The Azure AI Foundry project endpoint that connects the evaluation to a specific project.\n",
        "- **`credential`**: Azure identity credentials used to authenticate securely via Azure Active Directory.\n",
        "- **`risk_categories`**: A list of predefined risk categories to probe. In this case:\n",
        "  - `Violence`: Evaluates how the model responds to prompts about physical harm.\n",
        "  - `HateUnfairness`: Tests the model’s responses for signs of hate speech or unfair bias.\n",
        "- **`num_objectives`**: Number of unique attack objectives (i.e., adversarial prompts) generated for each risk category.\n",
        "\n",
        "> 📦 **Note:**  \n",
        "> You can include more risk categories to broaden your test coverage:  \n",
        "> `risk_categories=[RiskCategory.Violence, RiskCategory.HateUnfairness, RiskCategory.Sexual, RiskCategory.SelfHarm], num_objectives=5`\n",
        "\n",
        "---\n",
        "\n",
        "### 🧪 Purpose:\n",
        "\n",
        "To automatically generate and simulate 5 attack scenarios per selected risk category. These scenarios mimic real-world misuse cases that red teamers use to probe the AI system for vulnerabilities, unsafe behavior, or ethical breaches.\n",
        "\n",
        "---\n",
        "\n",
        "### ✅ Outcome:\n",
        "\n",
        "After this setup, the `RedTeam` instance is ready to run evaluations against your deployed Azure OpenAI model, helping assess how it handles safety, fairness, and robustness under adversarial conditions.\n"
      ]
    },
    {
      "cell_type": "code",
      "execution_count": 22,
      "metadata": {
        "id": "d5fQixPiChbu"
      },
      "outputs": [],
      "source": [
        "# Create the RedTeam instance with all of the risk categories with 5 attack objectives generated for each category\n",
        "model_red_team = RedTeam(\n",
        "    azure_ai_project=azure_ai_project,\n",
        "    credential=credential,\n",
        "    risk_categories=[RiskCategory.Violence, RiskCategory.HateUnfairness],\n",
        "    num_objectives=5,\n",
        ")"
      ]
    },
    {
      "cell_type": "markdown",
      "metadata": {
        "id": "Tc9f4GVmV37N"
      },
      "source": [
        "## 🚨 Running the Red Team Scan with Advanced Attack Strategies\n",
        "\n",
        "This step initiates a red team scan against your deployed model using various attack strategies to simulate real-world adversarial behavior.\n",
        "\n",
        "---\n",
        "\n",
        "### 🔧 Parameters:\n",
        "\n",
        "- **`target`**: The callback function that wraps interaction with your Azure OpenAI model (e.g., `azure_openai_callback`).\n",
        "- **`scan_name`**: A name for the scan run, useful for saving logs and identifying test sessions later.\n",
        "- **`attack_strategies`**: A list of strategies that define the complexity and method of attack:\n",
        "  - `EASY`: Low-complexity attacks simulating basic adversarial prompts.\n",
        "  - `MODERATE`: Medium-complexity attacks mimicking more nuanced misuse.\n",
        "  - `Compose([Base64, ROT13])`: A composed attack combining two obfuscation techniques—Base64 encoding and ROT13 cipher.\n",
        "- **`output_path`**: The path where the scan results will be saved in `.json` format for further analysis.\n",
        "\n",
        "---\n",
        "\n",
        "### 🎯 Purpose:\n",
        "\n",
        "To emulate different tiers of adversarial inputs and evaluate how resilient your AI model is under diverse threat scenarios, both simple and complex.\n",
        "\n",
        "---\n",
        "\n",
        "### 📁 Output:\n",
        "\n",
        "The results of the red teaming test are saved to `Advanced-Callback-Scan.json`. This file contains insights into which prompts succeeded or failed, allowing you to tune safety mechanisms accordingly.\n",
        "\n",
        "---\n",
        "\n",
        "> 📌 **Note**  \n",
        "> You can add more attack strategies to increase the robustness of the evaluation:\n",
        ">\n",
        "> ```python\n",
        "> attack_strategies=[\n",
        ">     AttackStrategy.EASY,\n",
        ">     AttackStrategy.MODERATE,\n",
        ">     AttackStrategy.CharacterSpace,\n",
        ">     AttackStrategy.ROT13,\n",
        ">     AttackStrategy.UnicodeConfusable,\n",
        ">     AttackStrategy.CharSwap,\n",
        ">     AttackStrategy.Morse,\n",
        ">     AttackStrategy.Leetspeak,\n",
        ">     AttackStrategy.Url,\n",
        ">     AttackStrategy.Binary,\n",
        ">     AttackStrategy.Compose([AttackStrategy.Base64, AttackStrategy.ROT13]),\n",
        "> ]\n",
        "> ```\n"
      ]
    },
    {
      "cell_type": "code",
      "execution_count": null,
      "metadata": {
        "id": "AWZwPk1QKgXc"
      },
      "outputs": [],
      "source": [
        "# Run the red team scan with multiple attack strategies\n",
        "advanced_result = await model_red_team.scan(\n",
        "    target=azure_openai_callback,\n",
        "    scan_name=\"Advanced-Callback-Scan\",\n",
        "    attack_strategies=[\n",
        "        AttackStrategy.EASY,  # Group of easy complexity attacks\n",
        "        AttackStrategy.MODERATE,  # Group of moderate complexity attacks\n",
        "        AttackStrategy.Compose([AttackStrategy.Base64, AttackStrategy.ROT13]),  # Use two strategies in one attack\n",
        "    ],\n",
        "    output_path=\"Advanced-Callback-Scan.json\",\n",
        ")"
      ]
    }
  ],
  "metadata": {
    "accelerator": "GPU",
    "colab": {
      "gpuType": "T4",
      "provenance": []
    },
    "kernelspec": {
      "display_name": "Python 3",
      "name": "python3"
    },
    "language_info": {
      "name": "python"
    }
  },
  "nbformat": 4,
  "nbformat_minor": 0
}
